{
 "cells": [
  {
   "cell_type": "code",
   "execution_count": 1,
   "metadata": {},
   "outputs": [
    {
     "name": "stdout",
     "output_type": "stream",
     "text": [
      "1.13.1\n"
     ]
    }
   ],
   "source": [
    "import tensorflow as tf\n",
    "print(tf.__version__)\n"
   ]
  },
  {
   "cell_type": "code",
   "execution_count": 2,
   "metadata": {},
   "outputs": [
    {
     "name": "stdout",
     "output_type": "stream",
     "text": [
      "grpc://localhost:2222\n"
     ]
    }
   ],
   "source": [
    "cluster_spec = tf.train.ClusterSpec({'worker' : ['localhost:2222']})\n",
    "server = tf.train.Server(cluster_spec)\n",
    "print(server.target)"
   ]
  },
  {
   "cell_type": "code",
   "execution_count": 3,
   "metadata": {},
   "outputs": [
    {
     "name": "stdout",
     "output_type": "stream",
     "text": [
      "python3   29086 imman   10u  IPv4 1855292      0t0  TCP 127.0.0.1:32839 (LISTEN)\n",
      "python3   29086 imman   12u  IPv4 1855294      0t0  TCP 127.0.0.1:49127 (LISTEN)\n",
      "python3   29086 imman   14u  IPv4 1855296      0t0  TCP 127.0.0.1:33157 (LISTEN)\n",
      "python3   29086 imman   16u  IPv4 1855298      0t0  TCP 127.0.0.1:45985 (LISTEN)\n",
      "python3   29086 imman   21u  IPv4 1855302      0t0  TCP 127.0.0.1:34973 (LISTEN)\n",
      "python3   29086 imman   29u  IPv4 1857343      0t0  TCP 127.0.0.1:32975 (LISTEN)\n",
      "python3   29086 imman   45u  IPv6 1857361      0t0  TCP *:2222 (LISTEN)\n"
     ]
    }
   ],
   "source": [
    "%%bash\n",
    "lsof -i -P -n | grep LISTEN | grep python"
   ]
  },
  {
   "cell_type": "code",
   "execution_count": null,
   "metadata": {},
   "outputs": [],
   "source": []
  }
 ],
 "metadata": {
  "kernelspec": {
   "display_name": "Python 3",
   "language": "python",
   "name": "python3"
  },
  "language_info": {
   "codemirror_mode": {
    "name": "ipython",
    "version": 3
   },
   "file_extension": ".py",
   "mimetype": "text/x-python",
   "name": "python",
   "nbconvert_exporter": "python",
   "pygments_lexer": "ipython3",
   "version": "3.7.3"
  }
 },
 "nbformat": 4,
 "nbformat_minor": 2
}
