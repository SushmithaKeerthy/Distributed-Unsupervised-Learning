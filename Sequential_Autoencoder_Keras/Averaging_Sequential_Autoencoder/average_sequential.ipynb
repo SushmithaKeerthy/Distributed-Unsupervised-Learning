{
  "nbformat": 4,
  "nbformat_minor": 0,
  "metadata": {
    "colab": {
      "name": "average_sequential.ipynb",
      "version": "0.3.2",
      "provenance": [],
      "collapsed_sections": []
    },
    "kernelspec": {
      "name": "python3",
      "display_name": "Python 3"
    },
    "accelerator": "GPU"
  },
  "cells": [
    {
      "cell_type": "code",
      "metadata": {
        "id": "EQkH9OF8reo7",
        "colab_type": "code",
        "outputId": "9d0e9b34-54de-4932-bbcd-29c976df84b0",
        "colab": {
          "base_uri": "https://localhost:8080/",
          "height": 68
        }
      },
      "source": [
        "import keras\n",
        "from matplotlib import pyplot as plt\n",
        "import numpy as np\n",
        "import gzip\n",
        "import matplotlib.pyplot as plt\n",
        "from sklearn.model_selection import train_test_split\n",
        "from keras.models import Model\n",
        "from keras.optimizers import RMSprop\n",
        "from keras.layers import Input,Dense,Flatten,Dropout,merge,Reshape\n",
        "from keras.layers.normalization import BatchNormalization\n",
        "from keras.models import Model,Sequential\n",
        "from keras.callbacks import ModelCheckpoint\n",
        "from keras.optimizers import Adadelta, RMSprop,SGD,Adam\n",
        "from keras import regularizers\n",
        "from keras import backend as K\n",
        "from keras.utils import to_categorical\n",
        "from keras.datasets import mnist\n",
        "\n",
        "(X_train, y_train), (X_test, y_test) = mnist.load_data()\n",
        "X_train = X_train.astype('float32')/255\n",
        "X_test = X_test.astype('float32')/255\n",
        "X_train = X_train.reshape(len(X_train), np.prod(X_train.shape[1:]))\n",
        "X_test = X_test.reshape(len(X_test), np.prod(X_test.shape[1:]))\n",
        "print(X_train.shape)\n",
        "print(X_test.shape)\n",
        "\n",
        "batch_size = 64\n",
        "epochs = 50\n",
        "inChannel = 1\n",
        "x, y = 28, 28\n",
        "input_img = Input(shape = (x, y, inChannel))\n",
        "num_classes = 10\n",
        "\n",
        "X_train = X_train/np.max(X_train)\n",
        "X_test = X_test/np.max(X_test)\n",
        "\n",
        "print(np.max(X_train))\n",
        "train_X,valid_X,train_ground,valid_ground = train_test_split(X_train,\n",
        "                                                             X_train,\n",
        "                                                             test_size=0.2,\n",
        "                                                             random_state=13)\n",
        "\n",
        "input_img = Input(shape = (784,))\n",
        "num_classes = 10\n",
        "\n",
        "def Encoder_part(input_img):\n",
        "\n",
        "    encoded = Dense(units=256, activation='relu')(input_img)\n",
        "    encoded = Dense(units=128, activation='relu')(encoded)\n",
        "    encoded = Dense(units=64, activation='relu')(encoded)\n",
        "    encoded = Dense(units=32, activation='relu')(encoded)\n",
        "\n",
        "    return encoded\n",
        "\n",
        "def Decoder_part(encoded):\n",
        "        \n",
        "    decoded = Dense(units=64, activation='relu')(encoded)\n",
        "    decoded = Dense(units=128, activation='relu')(decoded)\n",
        "    decoded = Dense(units=256, activation='relu')(decoded)\n",
        "    decoded = Dense(units=784, activation='relu')(decoded)\n",
        "    \n",
        "    return decoded"
      ],
      "execution_count": 26,
      "outputs": [
        {
          "output_type": "stream",
          "text": [
            "(60000, 784)\n",
            "(10000, 784)\n",
            "1.0\n"
          ],
          "name": "stdout"
        }
      ]
    },
    {
      "cell_type": "code",
      "metadata": {
        "id": "URijeWSJ1uON",
        "colab_type": "code",
        "colab": {}
      },
      "source": [
        "autoencoder1=Model(input_img, Decoder_part(Encoder_part(input_img)))\n",
        "autoencoder2=Model(input_img, Decoder_part(Encoder_part(input_img)))\n",
        "#autoencoder3=Model(input_img, Decoder_part(Encoder_part(input_img)))\n",
        "#autoencoder4=Model(input_img, Decoder_part(Encoder_part(input_img)))\n",
        "#autoencoder5=Model(input_img, Decoder_part(Encoder_part(input_img)))\n",
        "autoencoder_final=Model(input_img, Decoder_part(Encoder_part(input_img)))"
      ],
      "execution_count": 0,
      "outputs": []
    },
    {
      "cell_type": "code",
      "metadata": {
        "id": "yAloY0wzso1i",
        "colab_type": "code",
        "outputId": "90250f1a-4f6f-41d2-95fc-a5a1ee7f28c1",
        "colab": {
          "base_uri": "https://localhost:8080/",
          "height": 1000
        }
      },
      "source": [
        "#encoder = Model(input_img, Encoder_part(input_img))\n",
        "\n",
        "autoencoder1.compile(loss='mean_squared_error', optimizer = SGD())\n",
        "autoencoder2.compile(loss='mean_squared_error', optimizer = SGD())\n",
        "#autoencoder3.compile(loss='mean_squared_error', optimizer = SGD())\n",
        "#autoencoder4.compile(loss='mean_squared_error', optimizer = SGD())\n",
        "#autoencoder5.compile(loss='mean_squared_error', optimizer = SGD())\n",
        "autoencoder_final.compile(loss='mean_squared_error', optimizer = SGD())\n",
        "\n",
        "autoencoder1.summary()\n",
        "autoencoder2.summary()\n",
        "#autoencoder3.summary()\n",
        "#autoencoder4.summary()\n",
        "#autoencoder5.summary()\n",
        "autoencoder_final.summary()\n",
        "\n"
      ],
      "execution_count": 28,
      "outputs": [
        {
          "output_type": "stream",
          "text": [
            "_________________________________________________________________\n",
            "Layer (type)                 Output Shape              Param #   \n",
            "=================================================================\n",
            "input_4 (InputLayer)         (None, 784)               0         \n",
            "_________________________________________________________________\n",
            "dense_37 (Dense)             (None, 256)               200960    \n",
            "_________________________________________________________________\n",
            "dense_38 (Dense)             (None, 128)               32896     \n",
            "_________________________________________________________________\n",
            "dense_39 (Dense)             (None, 64)                8256      \n",
            "_________________________________________________________________\n",
            "dense_40 (Dense)             (None, 32)                2080      \n",
            "_________________________________________________________________\n",
            "dense_41 (Dense)             (None, 64)                2112      \n",
            "_________________________________________________________________\n",
            "dense_42 (Dense)             (None, 128)               8320      \n",
            "_________________________________________________________________\n",
            "dense_43 (Dense)             (None, 256)               33024     \n",
            "_________________________________________________________________\n",
            "dense_44 (Dense)             (None, 784)               201488    \n",
            "=================================================================\n",
            "Total params: 489,136\n",
            "Trainable params: 489,136\n",
            "Non-trainable params: 0\n",
            "_________________________________________________________________\n",
            "_________________________________________________________________\n",
            "Layer (type)                 Output Shape              Param #   \n",
            "=================================================================\n",
            "input_4 (InputLayer)         (None, 784)               0         \n",
            "_________________________________________________________________\n",
            "dense_45 (Dense)             (None, 256)               200960    \n",
            "_________________________________________________________________\n",
            "dense_46 (Dense)             (None, 128)               32896     \n",
            "_________________________________________________________________\n",
            "dense_47 (Dense)             (None, 64)                8256      \n",
            "_________________________________________________________________\n",
            "dense_48 (Dense)             (None, 32)                2080      \n",
            "_________________________________________________________________\n",
            "dense_49 (Dense)             (None, 64)                2112      \n",
            "_________________________________________________________________\n",
            "dense_50 (Dense)             (None, 128)               8320      \n",
            "_________________________________________________________________\n",
            "dense_51 (Dense)             (None, 256)               33024     \n",
            "_________________________________________________________________\n",
            "dense_52 (Dense)             (None, 784)               201488    \n",
            "=================================================================\n",
            "Total params: 489,136\n",
            "Trainable params: 489,136\n",
            "Non-trainable params: 0\n",
            "_________________________________________________________________\n",
            "_________________________________________________________________\n",
            "Layer (type)                 Output Shape              Param #   \n",
            "=================================================================\n",
            "input_4 (InputLayer)         (None, 784)               0         \n",
            "_________________________________________________________________\n",
            "dense_53 (Dense)             (None, 256)               200960    \n",
            "_________________________________________________________________\n",
            "dense_54 (Dense)             (None, 128)               32896     \n",
            "_________________________________________________________________\n",
            "dense_55 (Dense)             (None, 64)                8256      \n",
            "_________________________________________________________________\n",
            "dense_56 (Dense)             (None, 32)                2080      \n",
            "_________________________________________________________________\n",
            "dense_57 (Dense)             (None, 64)                2112      \n",
            "_________________________________________________________________\n",
            "dense_58 (Dense)             (None, 128)               8320      \n",
            "_________________________________________________________________\n",
            "dense_59 (Dense)             (None, 256)               33024     \n",
            "_________________________________________________________________\n",
            "dense_60 (Dense)             (None, 784)               201488    \n",
            "=================================================================\n",
            "Total params: 489,136\n",
            "Trainable params: 489,136\n",
            "Non-trainable params: 0\n",
            "_________________________________________________________________\n"
          ],
          "name": "stdout"
        }
      ]
    },
    {
      "cell_type": "code",
      "metadata": {
        "id": "vwpv6AsLR7pN",
        "colab_type": "code",
        "outputId": "3e897610-4498-4f11-8947-d4e9cbb41c8a",
        "colab": {
          "base_uri": "https://localhost:8080/",
          "height": 850
        }
      },
      "source": [
        "#print(train_X[1][1])\n",
        "#print(np.shape(train_X))\n",
        "batch_train_X = []\n",
        "batch_train_ground = []\n",
        "\n",
        "i=0\n",
        "while i < 48000:\n",
        "  x  = []\n",
        "  j = 0\n",
        "  while j<1000:\n",
        "    x.append(train_X[i])\n",
        "    j = j+1\n",
        "    i = i+1\n",
        "  print(i)\n",
        "  batch_train_X.append(x)\n",
        "print(\"done\")"
      ],
      "execution_count": 29,
      "outputs": [
        {
          "output_type": "stream",
          "text": [
            "1000\n",
            "2000\n",
            "3000\n",
            "4000\n",
            "5000\n",
            "6000\n",
            "7000\n",
            "8000\n",
            "9000\n",
            "10000\n",
            "11000\n",
            "12000\n",
            "13000\n",
            "14000\n",
            "15000\n",
            "16000\n",
            "17000\n",
            "18000\n",
            "19000\n",
            "20000\n",
            "21000\n",
            "22000\n",
            "23000\n",
            "24000\n",
            "25000\n",
            "26000\n",
            "27000\n",
            "28000\n",
            "29000\n",
            "30000\n",
            "31000\n",
            "32000\n",
            "33000\n",
            "34000\n",
            "35000\n",
            "36000\n",
            "37000\n",
            "38000\n",
            "39000\n",
            "40000\n",
            "41000\n",
            "42000\n",
            "43000\n",
            "44000\n",
            "45000\n",
            "46000\n",
            "47000\n",
            "48000\n",
            "done\n"
          ],
          "name": "stdout"
        }
      ]
    },
    {
      "cell_type": "code",
      "metadata": {
        "id": "xAyIO94uYz4R",
        "colab_type": "code",
        "colab": {}
      },
      "source": [
        "#print(np.shape(train_X))\n",
        "print(np.shape(batch_train_ground))"
      ],
      "execution_count": 0,
      "outputs": []
    },
    {
      "cell_type": "code",
      "metadata": {
        "id": "Xdl94PI_9ig8",
        "colab_type": "code",
        "outputId": "d75a2481-4fe8-46ae-ff61-017ac100bbac",
        "colab": {
          "base_uri": "https://localhost:8080/",
          "height": 850
        }
      },
      "source": [
        "i=0\n",
        "while i < 48000:\n",
        "  x  = []\n",
        "  j = 0\n",
        "  while j<1000:\n",
        "    x.append(train_ground[i])\n",
        "    j = j+1\n",
        "    i = i+1\n",
        "  print(i)\n",
        "  batch_train_ground.append(x)\n",
        "print(\"done\")"
      ],
      "execution_count": 30,
      "outputs": [
        {
          "output_type": "stream",
          "text": [
            "1000\n",
            "2000\n",
            "3000\n",
            "4000\n",
            "5000\n",
            "6000\n",
            "7000\n",
            "8000\n",
            "9000\n",
            "10000\n",
            "11000\n",
            "12000\n",
            "13000\n",
            "14000\n",
            "15000\n",
            "16000\n",
            "17000\n",
            "18000\n",
            "19000\n",
            "20000\n",
            "21000\n",
            "22000\n",
            "23000\n",
            "24000\n",
            "25000\n",
            "26000\n",
            "27000\n",
            "28000\n",
            "29000\n",
            "30000\n",
            "31000\n",
            "32000\n",
            "33000\n",
            "34000\n",
            "35000\n",
            "36000\n",
            "37000\n",
            "38000\n",
            "39000\n",
            "40000\n",
            "41000\n",
            "42000\n",
            "43000\n",
            "44000\n",
            "45000\n",
            "46000\n",
            "47000\n",
            "48000\n",
            "done\n"
          ],
          "name": "stdout"
        }
      ]
    },
    {
      "cell_type": "code",
      "metadata": {
        "id": "L066HK2Hd6hr",
        "colab_type": "code",
        "colab": {}
      },
      "source": [
        "print(batch_train_X[47][999])"
      ],
      "execution_count": 0,
      "outputs": []
    },
    {
      "cell_type": "code",
      "metadata": {
        "id": "K3C8-BkEXo-U",
        "colab_type": "code",
        "colab": {}
      },
      "source": [
        "valid_X = valid_X[:1000]\n",
        "valid_ground = valid_ground[:1000]\n"
      ],
      "execution_count": 0,
      "outputs": []
    },
    {
      "cell_type": "code",
      "metadata": {
        "id": "LuqOcgB7i8r1",
        "colab_type": "code",
        "colab": {}
      },
      "source": [
        "print(np.shape(train_X))\n",
        "print(np.shape(i))"
      ],
      "execution_count": 0,
      "outputs": []
    },
    {
      "cell_type": "code",
      "metadata": {
        "id": "COpqUI8478ih",
        "colab_type": "code",
        "colab": {
          "base_uri": "https://localhost:8080/",
          "height": 357
        },
        "outputId": "3c91399d-f7ef-4b83-d250-9f2b2f24d5e4"
      },
      "source": [
        "count = 0\n",
        "number = 0\n",
        "for epo in range (0,100):\n",
        "  number = 0\n",
        "  print(\"entered first loop : \", epo)\n",
        "  for i,j in zip(batch_train_X,batch_train_ground):\n",
        "    print(\"entered second loop : \")\n",
        "    number = number + 1\n",
        "    i = [i]\n",
        "    j = [j]\n",
        "    print(\"**************************************************************************************************************8\")\n",
        "    print(\"batch : \" , number, \"epoch : \", epo)\n",
        "    if count == 0:\n",
        "      print(\"Entered if 1\", count)\n",
        "      autoencoder_train1 = autoencoder1.fit(i,j, batch_size=1000,epochs=1,verbose=1,validation_data=(valid_X, valid_ground))\n",
        "      count = count+1\n",
        "    if count == 1:\n",
        "      print(\"Entered if 2\", count)\n",
        "      autoencoder_train2 = autoencoder2.fit(i,j, batch_size=1000,epochs=1,verbose=1,validation_data=(valid_X, valid_ground))\n",
        "      count = count+1\n",
        "    #if count == 2:  \n",
        "    #  autoencoder_train3 = autoencoder3.fit(i,j, batch_size=1,epochs=epochs,verbose=1,validation_data=(valid_X, valid_ground))\n",
        "    #if count == 3:  \n",
        "    #  autoencoder_train4 = autoencoder4.fit(i,j, batch_size=1,epochs=epochs,verbose=1,validation_data=(valid_X, valid_ground))\n",
        "    #if count ==4:  \n",
        "    #  autoencoder_train5 = autoencoder5.fit(i,j, batch_size=1,epochs=epochs,verbose=1,validation_data=(valid_X, valid_ground))\n",
        "    if count ==2:\n",
        "      print(\"Entered if 3\", count)\n",
        "      count = 0\n",
        "      w1 = np.array(autoencoder1.get_weights())\n",
        "      w2 = np.array(autoencoder2.get_weights())\n",
        "      #w3 = autoencoder3.get_weights()\n",
        "      #w4 = autoencoder4.get_weights()\n",
        "      #w5 = autoencoder5.get_weights()\n",
        "      w_final = (w1+w2)/2\n",
        "      \n",
        "      print(\"Taken weights\")\n",
        "      \n",
        "      w_cur = np.array(autoencoder_final.get_weights())\n",
        "      w_final = (w_cur+w_final)/2\n",
        "\n",
        "      \n",
        "    \n",
        "      print(\"Meaned weights\")\n",
        "    \n",
        "      \n",
        "    \n",
        "      autoencoder_final.set_weights(w_final)\n",
        "      autoencoder1.set_weights(w_final)\n",
        "      autoencoder2.set_weights(w_final)\n",
        "      #autoencoder3.set_weights(w_final)\n",
        "      #autoencoder4.set_weights(w_final)\n",
        "      #autoencoder5.set_weights(w_final)\n",
        "      #autoencoder.set_weights(w_final)\n",
        "      \n",
        "      print(\"Going to the top again\")\n",
        "\n"
      ],
      "execution_count": 33,
      "outputs": [
        {
          "output_type": "stream",
          "text": [
            "\r1000/1000 [==============================] - 0s 19us/step - loss: 0.1051 - val_loss: 0.1086\n",
            "Entered if 3 2\n",
            "Taken weights\n",
            "Meaned weights\n",
            "Going to the top again\n",
            "entered second loop : \n",
            "**************************************************************************************************************8\n",
            "batch :  48 epoch :  99\n",
            "Entered if 1 0\n",
            "Train on 1000 samples, validate on 1000 samples\n",
            "Epoch 1/1\n",
            "1000/1000 [==============================] - 0s 17us/step - loss: 0.1060 - val_loss: 0.1086\n",
            "Entered if 2 1\n",
            "Train on 1000 samples, validate on 1000 samples\n",
            "Epoch 1/1\n",
            "1000/1000 [==============================] - 0s 18us/step - loss: 0.1060 - val_loss: 0.1086\n",
            "Entered if 3 2\n",
            "Taken weights\n",
            "Meaned weights\n",
            "Going to the top again\n"
          ],
          "name": "stdout"
        }
      ]
    },
    {
      "cell_type": "code",
      "metadata": {
        "id": "0SxxKWzsiw42",
        "colab_type": "code",
        "colab": {}
      },
      "source": [
        "loss = autoencoder_train1.history['loss']\n",
        "val_loss = autoencoder1.history['val_loss']\n",
        "epochs = range(75)\n",
        "plt.figure()\n",
        "plt.plot(epochs, loss, 'bo', label='Training loss - AE1')\n",
        "plt.plot(epochs, val_loss, 'b', label='Validation loss')\n",
        "plt.title('Training and validation loss')\n",
        "plt.legend()\n",
        "plt.show()\n",
        "\n",
        "'''\n",
        "loss = autoencoder_train2.history['loss']\n",
        "val_loss = autoencoder_train2.history['val_loss']\n",
        "epochs = range(100)\n",
        "plt.figure()\n",
        "plt.plot(epochs, loss, 'bo', label='Training loss')\n",
        "plt.plot(epochs, val_loss, 'b', label='Validation loss')\n",
        "plt.title('Training and validation loss')\n",
        "plt.legend()\n",
        "plt.show()\n",
        "weight'''"
      ],
      "execution_count": 0,
      "outputs": []
    },
    {
      "cell_type": "code",
      "metadata": {
        "id": "n2djvWZpsYHf",
        "colab_type": "code",
        "colab": {
          "base_uri": "https://localhost:8080/",
          "height": 51
        },
        "outputId": "4290f1d0-3fb6-4446-bf80-83e3afeb9c14"
      },
      "source": [
        "wt_fn = autoencoder_final.get_weights()\n",
        "print(\"Weights taken\")\n",
        "print(np.shape(wt_fn[0]))"
      ],
      "execution_count": 34,
      "outputs": [
        {
          "output_type": "stream",
          "text": [
            "Weights taken\n",
            "(784, 256)\n"
          ],
          "name": "stdout"
        }
      ]
    },
    {
      "cell_type": "code",
      "metadata": {
        "id": "u77euOJ2uSst",
        "colab_type": "code",
        "colab": {
          "base_uri": "https://localhost:8080/",
          "height": 51
        },
        "outputId": "194ff821-9990-4771-e3dd-69ae3d3d1e28"
      },
      "source": [
        "train_Y_one_hot = to_categorical(y_train)\n",
        "test_Y_one_hot = to_categorical(y_test)\n",
        "print('Original label:', y_train[0])\n",
        "print('After conversion to one-hot:', train_Y_one_hot[0])"
      ],
      "execution_count": 35,
      "outputs": [
        {
          "output_type": "stream",
          "text": [
            "Original label: 5\n",
            "After conversion to one-hot: [0. 0. 0. 0. 0. 1. 0. 0. 0. 0.]\n"
          ],
          "name": "stdout"
        }
      ]
    },
    {
      "cell_type": "code",
      "metadata": {
        "id": "6VMaMoQAxAsR",
        "colab_type": "code",
        "colab": {}
      },
      "source": [
        "train_X,valid_X,y_train,y_valid = train_test_split(X_train,train_Y_one_hot,test_size=0.2,random_state=13)"
      ],
      "execution_count": 0,
      "outputs": []
    },
    {
      "cell_type": "code",
      "metadata": {
        "id": "8SBrsWJpxDLm",
        "colab_type": "code",
        "colab": {}
      },
      "source": [
        "def fc(enco):\n",
        "    flat = enco\n",
        "    den = Dense(64, activation='relu')(flat)\n",
        "    out = Dense(num_classes, activation='softmax')(den)\n",
        "    return out"
      ],
      "execution_count": 0,
      "outputs": []
    },
    {
      "cell_type": "code",
      "metadata": {
        "id": "g-q3pY9mxIai",
        "colab_type": "code",
        "colab": {}
      },
      "source": [
        "full_model = Model(input_img,fc(Encoder_part(input_img)))"
      ],
      "execution_count": 0,
      "outputs": []
    },
    {
      "cell_type": "code",
      "metadata": {
        "id": "_NvQoDW9xMAf",
        "colab_type": "code",
        "colab": {}
      },
      "source": [
        "for l1,l2 in zip(full_model.layers[:6],autoencoder_final.layers[0:6]):\n",
        "    l1.set_weights(l2.get_weights())"
      ],
      "execution_count": 0,
      "outputs": []
    },
    {
      "cell_type": "code",
      "metadata": {
        "id": "DOXgqx1qx3Mq",
        "colab_type": "code",
        "colab": {}
      },
      "source": [
        "for layer in full_model.layers[0:6]:\n",
        "    layer.trainable = False\n",
        "full_model.compile(loss=keras.losses.categorical_crossentropy, optimizer=keras.optimizers.Adam(),metrics=['accuracy'])"
      ],
      "execution_count": 0,
      "outputs": []
    },
    {
      "cell_type": "code",
      "metadata": {
        "id": "Cf92vduBx_Lk",
        "colab_type": "code",
        "colab": {
          "base_uri": "https://localhost:8080/",
          "height": 374
        },
        "outputId": "aea1dbd1-9b12-4eb1-9030-ebfb817e94ab"
      },
      "source": [
        "full_model.summary()"
      ],
      "execution_count": 41,
      "outputs": [
        {
          "output_type": "stream",
          "text": [
            "_________________________________________________________________\n",
            "Layer (type)                 Output Shape              Param #   \n",
            "=================================================================\n",
            "input_4 (InputLayer)         (None, 784)               0         \n",
            "_________________________________________________________________\n",
            "dense_61 (Dense)             (None, 256)               200960    \n",
            "_________________________________________________________________\n",
            "dense_62 (Dense)             (None, 128)               32896     \n",
            "_________________________________________________________________\n",
            "dense_63 (Dense)             (None, 64)                8256      \n",
            "_________________________________________________________________\n",
            "dense_64 (Dense)             (None, 32)                2080      \n",
            "_________________________________________________________________\n",
            "dense_65 (Dense)             (None, 64)                2112      \n",
            "_________________________________________________________________\n",
            "dense_66 (Dense)             (None, 10)                650       \n",
            "=================================================================\n",
            "Total params: 246,954\n",
            "Trainable params: 650\n",
            "Non-trainable params: 246,304\n",
            "_________________________________________________________________\n"
          ],
          "name": "stdout"
        }
      ]
    },
    {
      "cell_type": "code",
      "metadata": {
        "id": "77RiAnPdx_qa",
        "colab_type": "code",
        "colab": {}
      },
      "source": [
        "for layer in full_model.layers[0:6]:\n",
        "    layer.trainable = False"
      ],
      "execution_count": 0,
      "outputs": []
    },
    {
      "cell_type": "code",
      "metadata": {
        "id": "0P_Ki51gyF5Y",
        "colab_type": "code",
        "colab": {
          "base_uri": "https://localhost:8080/",
          "height": 1000
        },
        "outputId": "5f7515b9-03cb-4256-93d9-30cbd8b20cc3"
      },
      "source": [
        "classify_train = full_model.fit(train_X, y_train, batch_size=64,epochs=100,verbose=1,validation_data=(valid_X, y_valid))"
      ],
      "execution_count": 43,
      "outputs": [
        {
          "output_type": "stream",
          "text": [
            "Train on 48000 samples, validate on 12000 samples\n",
            "Epoch 1/100\n",
            "48000/48000 [==============================] - 4s 78us/step - loss: 2.2920 - acc: 0.2038 - val_loss: 2.2826 - val_acc: 0.2555\n",
            "Epoch 2/100\n",
            "48000/48000 [==============================] - 4s 73us/step - loss: 2.2732 - acc: 0.2610 - val_loss: 2.2641 - val_acc: 0.2560\n",
            "Epoch 3/100\n",
            "48000/48000 [==============================] - 3s 71us/step - loss: 2.2552 - acc: 0.2878 - val_loss: 2.2462 - val_acc: 0.2839\n",
            "Epoch 4/100\n",
            "48000/48000 [==============================] - 3s 71us/step - loss: 2.2378 - acc: 0.3000 - val_loss: 2.2290 - val_acc: 0.3107\n",
            "Epoch 5/100\n",
            "48000/48000 [==============================] - 3s 70us/step - loss: 2.2210 - acc: 0.3190 - val_loss: 2.2122 - val_acc: 0.3266\n",
            "Epoch 6/100\n",
            "48000/48000 [==============================] - 3s 70us/step - loss: 2.2046 - acc: 0.3364 - val_loss: 2.1958 - val_acc: 0.3266\n",
            "Epoch 7/100\n",
            "48000/48000 [==============================] - 3s 71us/step - loss: 2.1886 - acc: 0.3351 - val_loss: 2.1802 - val_acc: 0.3562\n",
            "Epoch 8/100\n",
            "48000/48000 [==============================] - 3s 70us/step - loss: 2.1732 - acc: 0.3560 - val_loss: 2.1647 - val_acc: 0.3488\n",
            "Epoch 9/100\n",
            "48000/48000 [==============================] - 3s 70us/step - loss: 2.1581 - acc: 0.3614 - val_loss: 2.1498 - val_acc: 0.3454\n",
            "Epoch 10/100\n",
            "48000/48000 [==============================] - 3s 71us/step - loss: 2.1435 - acc: 0.3586 - val_loss: 2.1352 - val_acc: 0.3649\n",
            "Epoch 11/100\n",
            "48000/48000 [==============================] - 3s 70us/step - loss: 2.1294 - acc: 0.3712 - val_loss: 2.1212 - val_acc: 0.3671\n",
            "Epoch 12/100\n",
            "48000/48000 [==============================] - 3s 70us/step - loss: 2.1156 - acc: 0.3751 - val_loss: 2.1073 - val_acc: 0.3743\n",
            "Epoch 13/100\n",
            "48000/48000 [==============================] - 3s 71us/step - loss: 2.1022 - acc: 0.3785 - val_loss: 2.0941 - val_acc: 0.3767\n",
            "Epoch 14/100\n",
            "48000/48000 [==============================] - 3s 71us/step - loss: 2.0891 - acc: 0.3807 - val_loss: 2.0811 - val_acc: 0.3882\n",
            "Epoch 15/100\n",
            "48000/48000 [==============================] - 3s 70us/step - loss: 2.0764 - acc: 0.3881 - val_loss: 2.0684 - val_acc: 0.3877\n",
            "Epoch 16/100\n",
            "48000/48000 [==============================] - 3s 71us/step - loss: 2.0641 - acc: 0.3918 - val_loss: 2.0562 - val_acc: 0.3894\n",
            "Epoch 17/100\n",
            "48000/48000 [==============================] - 3s 70us/step - loss: 2.0521 - acc: 0.3953 - val_loss: 2.0443 - val_acc: 0.3912\n",
            "Epoch 18/100\n",
            "48000/48000 [==============================] - 3s 70us/step - loss: 2.0404 - acc: 0.3962 - val_loss: 2.0328 - val_acc: 0.3942\n",
            "Epoch 19/100\n",
            "48000/48000 [==============================] - 3s 70us/step - loss: 2.0290 - acc: 0.4016 - val_loss: 2.0213 - val_acc: 0.3947\n",
            "Epoch 20/100\n",
            "48000/48000 [==============================] - 3s 71us/step - loss: 2.0179 - acc: 0.4019 - val_loss: 2.0105 - val_acc: 0.4023\n",
            "Epoch 21/100\n",
            "48000/48000 [==============================] - 3s 70us/step - loss: 2.0072 - acc: 0.4050 - val_loss: 1.9998 - val_acc: 0.4027\n",
            "Epoch 22/100\n",
            "48000/48000 [==============================] - 3s 70us/step - loss: 1.9968 - acc: 0.4081 - val_loss: 1.9894 - val_acc: 0.4056\n",
            "Epoch 23/100\n",
            "48000/48000 [==============================] - 3s 70us/step - loss: 1.9867 - acc: 0.4097 - val_loss: 1.9793 - val_acc: 0.4088\n",
            "Epoch 24/100\n",
            "48000/48000 [==============================] - 3s 71us/step - loss: 1.9768 - acc: 0.4121 - val_loss: 1.9695 - val_acc: 0.4088\n",
            "Epoch 25/100\n",
            "48000/48000 [==============================] - 3s 70us/step - loss: 1.9673 - acc: 0.4141 - val_loss: 1.9601 - val_acc: 0.4093\n",
            "Epoch 26/100\n",
            "48000/48000 [==============================] - 3s 70us/step - loss: 1.9581 - acc: 0.4165 - val_loss: 1.9511 - val_acc: 0.4123\n",
            "Epoch 27/100\n",
            "48000/48000 [==============================] - 3s 70us/step - loss: 1.9491 - acc: 0.4186 - val_loss: 1.9421 - val_acc: 0.4128\n",
            "Epoch 28/100\n",
            "48000/48000 [==============================] - 3s 70us/step - loss: 1.9403 - acc: 0.4200 - val_loss: 1.9335 - val_acc: 0.4154\n",
            "Epoch 29/100\n",
            "48000/48000 [==============================] - 3s 70us/step - loss: 1.9317 - acc: 0.4214 - val_loss: 1.9249 - val_acc: 0.4181\n",
            "Epoch 30/100\n",
            "48000/48000 [==============================] - 3s 70us/step - loss: 1.9234 - acc: 0.4235 - val_loss: 1.9166 - val_acc: 0.4210\n",
            "Epoch 31/100\n",
            "48000/48000 [==============================] - 3s 71us/step - loss: 1.9154 - acc: 0.4246 - val_loss: 1.9086 - val_acc: 0.4234\n",
            "Epoch 32/100\n",
            "48000/48000 [==============================] - 3s 70us/step - loss: 1.9075 - acc: 0.4271 - val_loss: 1.9010 - val_acc: 0.4224\n",
            "Epoch 33/100\n",
            "48000/48000 [==============================] - 3s 70us/step - loss: 1.8999 - acc: 0.4282 - val_loss: 1.8933 - val_acc: 0.4273\n",
            "Epoch 34/100\n",
            "48000/48000 [==============================] - 3s 70us/step - loss: 1.8924 - acc: 0.4299 - val_loss: 1.8860 - val_acc: 0.4264\n",
            "Epoch 35/100\n",
            "48000/48000 [==============================] - 3s 71us/step - loss: 1.8852 - acc: 0.4304 - val_loss: 1.8790 - val_acc: 0.4323\n",
            "Epoch 36/100\n",
            "48000/48000 [==============================] - 3s 70us/step - loss: 1.8783 - acc: 0.4331 - val_loss: 1.8719 - val_acc: 0.4333\n",
            "Epoch 37/100\n",
            "48000/48000 [==============================] - 3s 70us/step - loss: 1.8714 - acc: 0.4345 - val_loss: 1.8652 - val_acc: 0.4332\n",
            "Epoch 38/100\n",
            "48000/48000 [==============================] - 3s 71us/step - loss: 1.8647 - acc: 0.4350 - val_loss: 1.8586 - val_acc: 0.4340\n",
            "Epoch 39/100\n",
            "48000/48000 [==============================] - 3s 70us/step - loss: 1.8582 - acc: 0.4363 - val_loss: 1.8521 - val_acc: 0.4368\n",
            "Epoch 40/100\n",
            "48000/48000 [==============================] - 3s 70us/step - loss: 1.8519 - acc: 0.4385 - val_loss: 1.8460 - val_acc: 0.4334\n",
            "Epoch 41/100\n",
            "48000/48000 [==============================] - 3s 71us/step - loss: 1.8458 - acc: 0.4377 - val_loss: 1.8398 - val_acc: 0.4385\n",
            "Epoch 42/100\n",
            "48000/48000 [==============================] - 3s 71us/step - loss: 1.8398 - acc: 0.4402 - val_loss: 1.8338 - val_acc: 0.4389\n",
            "Epoch 43/100\n",
            "48000/48000 [==============================] - 3s 70us/step - loss: 1.8339 - acc: 0.4402 - val_loss: 1.8280 - val_acc: 0.4405\n",
            "Epoch 44/100\n",
            "48000/48000 [==============================] - 3s 71us/step - loss: 1.8282 - acc: 0.4422 - val_loss: 1.8225 - val_acc: 0.4407\n",
            "Epoch 45/100\n",
            "48000/48000 [==============================] - 3s 70us/step - loss: 1.8227 - acc: 0.4430 - val_loss: 1.8170 - val_acc: 0.4427\n",
            "Epoch 46/100\n",
            "48000/48000 [==============================] - 3s 70us/step - loss: 1.8173 - acc: 0.4438 - val_loss: 1.8115 - val_acc: 0.4429\n",
            "Epoch 47/100\n",
            "48000/48000 [==============================] - 3s 71us/step - loss: 1.8120 - acc: 0.4449 - val_loss: 1.8064 - val_acc: 0.4419\n",
            "Epoch 48/100\n",
            "48000/48000 [==============================] - 3s 70us/step - loss: 1.8069 - acc: 0.4447 - val_loss: 1.8013 - val_acc: 0.4438\n",
            "Epoch 49/100\n",
            "48000/48000 [==============================] - 3s 71us/step - loss: 1.8018 - acc: 0.4462 - val_loss: 1.7963 - val_acc: 0.4457\n",
            "Epoch 50/100\n",
            "48000/48000 [==============================] - 3s 70us/step - loss: 1.7969 - acc: 0.4473 - val_loss: 1.7914 - val_acc: 0.4471\n",
            "Epoch 51/100\n",
            "48000/48000 [==============================] - 3s 71us/step - loss: 1.7922 - acc: 0.4476 - val_loss: 1.7867 - val_acc: 0.4474\n",
            "Epoch 52/100\n",
            "48000/48000 [==============================] - 3s 70us/step - loss: 1.7875 - acc: 0.4479 - val_loss: 1.7821 - val_acc: 0.4486\n",
            "Epoch 53/100\n",
            "48000/48000 [==============================] - 3s 71us/step - loss: 1.7829 - acc: 0.4495 - val_loss: 1.7775 - val_acc: 0.4502\n",
            "Epoch 54/100\n",
            "48000/48000 [==============================] - 3s 71us/step - loss: 1.7785 - acc: 0.4510 - val_loss: 1.7732 - val_acc: 0.4492\n",
            "Epoch 55/100\n",
            "48000/48000 [==============================] - 3s 70us/step - loss: 1.7742 - acc: 0.4513 - val_loss: 1.7688 - val_acc: 0.4495\n",
            "Epoch 56/100\n",
            "48000/48000 [==============================] - 3s 71us/step - loss: 1.7699 - acc: 0.4516 - val_loss: 1.7647 - val_acc: 0.4507\n",
            "Epoch 57/100\n",
            "48000/48000 [==============================] - 3s 71us/step - loss: 1.7657 - acc: 0.4535 - val_loss: 1.7605 - val_acc: 0.4508\n",
            "Epoch 58/100\n",
            "48000/48000 [==============================] - 3s 71us/step - loss: 1.7616 - acc: 0.4531 - val_loss: 1.7567 - val_acc: 0.4525\n",
            "Epoch 59/100\n",
            "48000/48000 [==============================] - 3s 71us/step - loss: 1.7577 - acc: 0.4547 - val_loss: 1.7528 - val_acc: 0.4510\n",
            "Epoch 60/100\n",
            "48000/48000 [==============================] - 3s 72us/step - loss: 1.7538 - acc: 0.4539 - val_loss: 1.7487 - val_acc: 0.4540\n",
            "Epoch 61/100\n",
            "48000/48000 [==============================] - 3s 70us/step - loss: 1.7501 - acc: 0.4551 - val_loss: 1.7449 - val_acc: 0.4547\n",
            "Epoch 62/100\n",
            "48000/48000 [==============================] - 3s 70us/step - loss: 1.7463 - acc: 0.4562 - val_loss: 1.7412 - val_acc: 0.4561\n",
            "Epoch 63/100\n",
            "48000/48000 [==============================] - 3s 71us/step - loss: 1.7427 - acc: 0.4565 - val_loss: 1.7376 - val_acc: 0.4560\n",
            "Epoch 64/100\n",
            "48000/48000 [==============================] - 3s 70us/step - loss: 1.7391 - acc: 0.4572 - val_loss: 1.7341 - val_acc: 0.4569\n",
            "Epoch 65/100\n",
            "48000/48000 [==============================] - 3s 71us/step - loss: 1.7356 - acc: 0.4582 - val_loss: 1.7308 - val_acc: 0.4562\n",
            "Epoch 66/100\n",
            "48000/48000 [==============================] - 3s 71us/step - loss: 1.7323 - acc: 0.4577 - val_loss: 1.7273 - val_acc: 0.4572\n",
            "Epoch 67/100\n",
            "48000/48000 [==============================] - 3s 71us/step - loss: 1.7289 - acc: 0.4593 - val_loss: 1.7241 - val_acc: 0.4582\n",
            "Epoch 68/100\n",
            "48000/48000 [==============================] - 3s 70us/step - loss: 1.7257 - acc: 0.4594 - val_loss: 1.7208 - val_acc: 0.4582\n",
            "Epoch 69/100\n",
            "48000/48000 [==============================] - 3s 71us/step - loss: 1.7224 - acc: 0.4601 - val_loss: 1.7177 - val_acc: 0.4598\n",
            "Epoch 70/100\n",
            "48000/48000 [==============================] - 3s 70us/step - loss: 1.7193 - acc: 0.4612 - val_loss: 1.7147 - val_acc: 0.4590\n",
            "Epoch 71/100\n",
            "48000/48000 [==============================] - 3s 71us/step - loss: 1.7163 - acc: 0.4608 - val_loss: 1.7116 - val_acc: 0.4595\n",
            "Epoch 72/100\n",
            "48000/48000 [==============================] - 3s 71us/step - loss: 1.7132 - acc: 0.4615 - val_loss: 1.7085 - val_acc: 0.4608\n",
            "Epoch 73/100\n",
            "48000/48000 [==============================] - 3s 70us/step - loss: 1.7103 - acc: 0.4620 - val_loss: 1.7056 - val_acc: 0.4618\n",
            "Epoch 74/100\n",
            "48000/48000 [==============================] - 3s 70us/step - loss: 1.7075 - acc: 0.4620 - val_loss: 1.7028 - val_acc: 0.4628\n",
            "Epoch 75/100\n",
            "48000/48000 [==============================] - 3s 70us/step - loss: 1.7046 - acc: 0.4638 - val_loss: 1.6998 - val_acc: 0.4630\n",
            "Epoch 76/100\n",
            "48000/48000 [==============================] - 3s 71us/step - loss: 1.7018 - acc: 0.4629 - val_loss: 1.6971 - val_acc: 0.4636\n",
            "Epoch 77/100\n",
            "48000/48000 [==============================] - 3s 73us/step - loss: 1.6991 - acc: 0.4640 - val_loss: 1.6945 - val_acc: 0.4632\n",
            "Epoch 78/100\n",
            "48000/48000 [==============================] - 4s 74us/step - loss: 1.6965 - acc: 0.4644 - val_loss: 1.6919 - val_acc: 0.4639\n",
            "Epoch 79/100\n",
            "48000/48000 [==============================] - 4s 74us/step - loss: 1.6938 - acc: 0.4647 - val_loss: 1.6892 - val_acc: 0.4647\n",
            "Epoch 80/100\n",
            "48000/48000 [==============================] - 3s 71us/step - loss: 1.6913 - acc: 0.4655 - val_loss: 1.6866 - val_acc: 0.4651\n",
            "Epoch 81/100\n",
            "48000/48000 [==============================] - 3s 71us/step - loss: 1.6887 - acc: 0.4657 - val_loss: 1.6841 - val_acc: 0.4661\n",
            "Epoch 82/100\n",
            "48000/48000 [==============================] - 3s 70us/step - loss: 1.6862 - acc: 0.4661 - val_loss: 1.6816 - val_acc: 0.4662\n",
            "Epoch 83/100\n",
            "48000/48000 [==============================] - 3s 70us/step - loss: 1.6838 - acc: 0.4670 - val_loss: 1.6793 - val_acc: 0.4653\n",
            "Epoch 84/100\n",
            "48000/48000 [==============================] - 3s 71us/step - loss: 1.6813 - acc: 0.4670 - val_loss: 1.6769 - val_acc: 0.4659\n",
            "Epoch 85/100\n",
            "48000/48000 [==============================] - 3s 71us/step - loss: 1.6790 - acc: 0.4671 - val_loss: 1.6745 - val_acc: 0.4667\n",
            "Epoch 86/100\n",
            "48000/48000 [==============================] - 3s 70us/step - loss: 1.6767 - acc: 0.4680 - val_loss: 1.6723 - val_acc: 0.4670\n",
            "Epoch 87/100\n",
            "48000/48000 [==============================] - 3s 70us/step - loss: 1.6744 - acc: 0.4680 - val_loss: 1.6700 - val_acc: 0.4678\n",
            "Epoch 88/100\n",
            "48000/48000 [==============================] - 3s 70us/step - loss: 1.6722 - acc: 0.4685 - val_loss: 1.6677 - val_acc: 0.4675\n",
            "Epoch 89/100\n",
            "48000/48000 [==============================] - 3s 71us/step - loss: 1.6700 - acc: 0.4691 - val_loss: 1.6657 - val_acc: 0.4682\n",
            "Epoch 90/100\n",
            "48000/48000 [==============================] - 3s 71us/step - loss: 1.6678 - acc: 0.4688 - val_loss: 1.6635 - val_acc: 0.4693\n",
            "Epoch 91/100\n",
            "48000/48000 [==============================] - 3s 72us/step - loss: 1.6657 - acc: 0.4698 - val_loss: 1.6613 - val_acc: 0.4697\n",
            "Epoch 92/100\n",
            "48000/48000 [==============================] - 4s 74us/step - loss: 1.6637 - acc: 0.4699 - val_loss: 1.6592 - val_acc: 0.4700\n",
            "Epoch 93/100\n",
            "48000/48000 [==============================] - 3s 71us/step - loss: 1.6616 - acc: 0.4696 - val_loss: 1.6573 - val_acc: 0.4706\n",
            "Epoch 94/100\n",
            "48000/48000 [==============================] - 3s 71us/step - loss: 1.6596 - acc: 0.4704 - val_loss: 1.6552 - val_acc: 0.4715\n",
            "Epoch 95/100\n",
            "48000/48000 [==============================] - 3s 70us/step - loss: 1.6575 - acc: 0.4704 - val_loss: 1.6532 - val_acc: 0.4708\n",
            "Epoch 96/100\n",
            "48000/48000 [==============================] - 3s 70us/step - loss: 1.6556 - acc: 0.4707 - val_loss: 1.6513 - val_acc: 0.4712\n",
            "Epoch 97/100\n",
            "48000/48000 [==============================] - 3s 71us/step - loss: 1.6537 - acc: 0.4711 - val_loss: 1.6494 - val_acc: 0.4721\n",
            "Epoch 98/100\n",
            "48000/48000 [==============================] - 3s 70us/step - loss: 1.6518 - acc: 0.4722 - val_loss: 1.6475 - val_acc: 0.4718\n",
            "Epoch 99/100\n",
            "48000/48000 [==============================] - 3s 70us/step - loss: 1.6499 - acc: 0.4719 - val_loss: 1.6458 - val_acc: 0.4720\n",
            "Epoch 100/100\n",
            "48000/48000 [==============================] - 3s 71us/step - loss: 1.6480 - acc: 0.4728 - val_loss: 1.6439 - val_acc: 0.4726\n"
          ],
          "name": "stdout"
        }
      ]
    },
    {
      "cell_type": "code",
      "metadata": {
        "id": "dOqbITPayIUb",
        "colab_type": "code",
        "colab": {}
      },
      "source": [
        "full_model.save_weights('classification_complete.h5')\n"
      ],
      "execution_count": 0,
      "outputs": []
    },
    {
      "cell_type": "code",
      "metadata": {
        "id": "eANYBVss4D7f",
        "colab_type": "code",
        "colab": {}
      },
      "source": [
        "for layer in full_model.layers[0:19]:\n",
        "    layer.trainable = True"
      ],
      "execution_count": 0,
      "outputs": []
    },
    {
      "cell_type": "code",
      "metadata": {
        "id": "2sceRvyf4OFa",
        "colab_type": "code",
        "colab": {}
      },
      "source": [
        "full_model.compile(loss=keras.losses.categorical_crossentropy, optimizer=keras.optimizers.Adam(),metrics=['accuracy'])"
      ],
      "execution_count": 0,
      "outputs": []
    },
    {
      "cell_type": "code",
      "metadata": {
        "id": "qMgTu1Zg4RfC",
        "colab_type": "code",
        "colab": {
          "base_uri": "https://localhost:8080/",
          "height": 1000
        },
        "outputId": "db0bccb7-e3f5-4c33-c86a-8ce9ac219fdd"
      },
      "source": [
        "classify_train = full_model.fit(train_X, y_train, batch_size=64,epochs=100,verbose=1,validation_data=(valid_X, y_valid))"
      ],
      "execution_count": 48,
      "outputs": [
        {
          "output_type": "stream",
          "text": [
            "Train on 48000 samples, validate on 12000 samples\n",
            "Epoch 1/100\n",
            "48000/48000 [==============================] - 6s 125us/step - loss: 0.2635 - acc: 0.9216 - val_loss: 0.2360 - val_acc: 0.9307\n",
            "Epoch 2/100\n",
            "48000/48000 [==============================] - 5s 114us/step - loss: 0.1277 - acc: 0.9625 - val_loss: 0.1559 - val_acc: 0.9572\n",
            "Epoch 3/100\n",
            "48000/48000 [==============================] - 5s 112us/step - loss: 0.0961 - acc: 0.9717 - val_loss: 0.1266 - val_acc: 0.9650\n",
            "Epoch 4/100\n",
            "48000/48000 [==============================] - 5s 114us/step - loss: 0.0827 - acc: 0.9755 - val_loss: 0.1242 - val_acc: 0.9649\n",
            "Epoch 5/100\n",
            "48000/48000 [==============================] - 5s 113us/step - loss: 0.0638 - acc: 0.9810 - val_loss: 0.1089 - val_acc: 0.9718\n",
            "Epoch 6/100\n",
            "48000/48000 [==============================] - 5s 113us/step - loss: 0.0573 - acc: 0.9829 - val_loss: 0.1412 - val_acc: 0.9641\n",
            "Epoch 7/100\n",
            "48000/48000 [==============================] - 5s 112us/step - loss: 0.0496 - acc: 0.9851 - val_loss: 0.1331 - val_acc: 0.9691\n",
            "Epoch 8/100\n",
            "48000/48000 [==============================] - 5s 115us/step - loss: 0.0470 - acc: 0.9855 - val_loss: 0.1093 - val_acc: 0.9748\n",
            "Epoch 9/100\n",
            "48000/48000 [==============================] - 5s 112us/step - loss: 0.0418 - acc: 0.9882 - val_loss: 0.1026 - val_acc: 0.9736\n",
            "Epoch 10/100\n",
            "48000/48000 [==============================] - 5s 113us/step - loss: 0.0378 - acc: 0.9889 - val_loss: 0.1253 - val_acc: 0.9727\n",
            "Epoch 11/100\n",
            "48000/48000 [==============================] - 5s 113us/step - loss: 0.0339 - acc: 0.9902 - val_loss: 0.1138 - val_acc: 0.9737\n",
            "Epoch 12/100\n",
            "48000/48000 [==============================] - 5s 114us/step - loss: 0.0320 - acc: 0.9904 - val_loss: 0.1097 - val_acc: 0.9766\n",
            "Epoch 13/100\n",
            "48000/48000 [==============================] - 5s 113us/step - loss: 0.0287 - acc: 0.9917 - val_loss: 0.1328 - val_acc: 0.9717\n",
            "Epoch 14/100\n",
            "48000/48000 [==============================] - 5s 113us/step - loss: 0.0293 - acc: 0.9914 - val_loss: 0.1287 - val_acc: 0.9736\n",
            "Epoch 15/100\n",
            "48000/48000 [==============================] - 5s 113us/step - loss: 0.0257 - acc: 0.9928 - val_loss: 0.1302 - val_acc: 0.9740\n",
            "Epoch 16/100\n",
            "48000/48000 [==============================] - 5s 115us/step - loss: 0.0175 - acc: 0.9951 - val_loss: 0.1354 - val_acc: 0.9735\n",
            "Epoch 17/100\n",
            "48000/48000 [==============================] - 5s 113us/step - loss: 0.0230 - acc: 0.9934 - val_loss: 0.1570 - val_acc: 0.9689\n",
            "Epoch 18/100\n",
            "48000/48000 [==============================] - 5s 114us/step - loss: 0.0252 - acc: 0.9933 - val_loss: 0.1089 - val_acc: 0.9778\n",
            "Epoch 19/100\n",
            "48000/48000 [==============================] - 5s 113us/step - loss: 0.0181 - acc: 0.9948 - val_loss: 0.1323 - val_acc: 0.9755\n",
            "Epoch 20/100\n",
            "48000/48000 [==============================] - 5s 114us/step - loss: 0.0165 - acc: 0.9953 - val_loss: 0.1142 - val_acc: 0.9782\n",
            "Epoch 21/100\n",
            "48000/48000 [==============================] - 5s 113us/step - loss: 0.0263 - acc: 0.9929 - val_loss: 0.1123 - val_acc: 0.9792\n",
            "Epoch 22/100\n",
            "48000/48000 [==============================] - 5s 112us/step - loss: 0.0157 - acc: 0.9955 - val_loss: 0.1308 - val_acc: 0.9768\n",
            "Epoch 23/100\n",
            "48000/48000 [==============================] - 5s 113us/step - loss: 0.0125 - acc: 0.9965 - val_loss: 0.1172 - val_acc: 0.9789\n",
            "Epoch 24/100\n",
            "48000/48000 [==============================] - 5s 113us/step - loss: 0.0187 - acc: 0.9952 - val_loss: 0.1379 - val_acc: 0.9782\n",
            "Epoch 25/100\n",
            "48000/48000 [==============================] - 5s 114us/step - loss: 0.0173 - acc: 0.9954 - val_loss: 0.1445 - val_acc: 0.9755\n",
            "Epoch 26/100\n",
            "48000/48000 [==============================] - 6s 116us/step - loss: 0.0146 - acc: 0.9961 - val_loss: 0.1093 - val_acc: 0.9792\n",
            "Epoch 27/100\n",
            "48000/48000 [==============================] - 6s 115us/step - loss: 0.0166 - acc: 0.9959 - val_loss: 0.1266 - val_acc: 0.9778\n",
            "Epoch 28/100\n",
            "48000/48000 [==============================] - 5s 113us/step - loss: 0.0165 - acc: 0.9959 - val_loss: 0.1263 - val_acc: 0.9794\n",
            "Epoch 29/100\n",
            "48000/48000 [==============================] - 5s 112us/step - loss: 0.0141 - acc: 0.9962 - val_loss: 0.1572 - val_acc: 0.9707\n",
            "Epoch 30/100\n",
            "48000/48000 [==============================] - 5s 114us/step - loss: 0.0135 - acc: 0.9965 - val_loss: 0.1312 - val_acc: 0.9778\n",
            "Epoch 31/100\n",
            "48000/48000 [==============================] - 5s 113us/step - loss: 0.0136 - acc: 0.9968 - val_loss: 0.1257 - val_acc: 0.9785\n",
            "Epoch 32/100\n",
            "48000/48000 [==============================] - 5s 112us/step - loss: 0.0117 - acc: 0.9970 - val_loss: 0.1269 - val_acc: 0.9785\n",
            "Epoch 33/100\n",
            "48000/48000 [==============================] - 5s 112us/step - loss: 0.0103 - acc: 0.9975 - val_loss: 0.1413 - val_acc: 0.9761\n",
            "Epoch 34/100\n",
            "48000/48000 [==============================] - 6s 116us/step - loss: 0.0172 - acc: 0.9958 - val_loss: 0.1205 - val_acc: 0.9772\n",
            "Epoch 35/100\n",
            "48000/48000 [==============================] - 5s 111us/step - loss: 0.0139 - acc: 0.9963 - val_loss: 0.1313 - val_acc: 0.9779\n",
            "Epoch 36/100\n",
            "48000/48000 [==============================] - 5s 113us/step - loss: 0.0152 - acc: 0.9966 - val_loss: 0.1377 - val_acc: 0.9774\n",
            "Epoch 37/100\n",
            "48000/48000 [==============================] - 5s 112us/step - loss: 0.0110 - acc: 0.9974 - val_loss: 0.1234 - val_acc: 0.9791\n",
            "Epoch 38/100\n",
            "48000/48000 [==============================] - 5s 111us/step - loss: 0.0081 - acc: 0.9979 - val_loss: 0.1398 - val_acc: 0.9782\n",
            "Epoch 39/100\n",
            "48000/48000 [==============================] - 5s 111us/step - loss: 0.0094 - acc: 0.9973 - val_loss: 0.1434 - val_acc: 0.9795\n",
            "Epoch 40/100\n",
            "48000/48000 [==============================] - 5s 112us/step - loss: 0.0117 - acc: 0.9977 - val_loss: 0.1518 - val_acc: 0.9732\n",
            "Epoch 41/100\n",
            "48000/48000 [==============================] - 5s 113us/step - loss: 0.0196 - acc: 0.9960 - val_loss: 0.1908 - val_acc: 0.9721\n",
            "Epoch 42/100\n",
            "48000/48000 [==============================] - 5s 112us/step - loss: 0.0122 - acc: 0.9969 - val_loss: 0.1772 - val_acc: 0.9761\n",
            "Epoch 43/100\n",
            "48000/48000 [==============================] - 5s 113us/step - loss: 0.0127 - acc: 0.9976 - val_loss: 0.1624 - val_acc: 0.9763\n",
            "Epoch 44/100\n",
            "48000/48000 [==============================] - 5s 112us/step - loss: 0.0122 - acc: 0.9974 - val_loss: 0.1717 - val_acc: 0.9756\n",
            "Epoch 45/100\n",
            "48000/48000 [==============================] - 5s 113us/step - loss: 0.0121 - acc: 0.9977 - val_loss: 0.1305 - val_acc: 0.9803\n",
            "Epoch 46/100\n",
            "48000/48000 [==============================] - 5s 113us/step - loss: 0.0036 - acc: 0.9992 - val_loss: 0.1685 - val_acc: 0.9774\n",
            "Epoch 47/100\n",
            "48000/48000 [==============================] - 5s 112us/step - loss: 0.0110 - acc: 0.9975 - val_loss: 0.1472 - val_acc: 0.9798\n",
            "Epoch 48/100\n",
            "48000/48000 [==============================] - 5s 112us/step - loss: 0.0124 - acc: 0.9975 - val_loss: 0.1485 - val_acc: 0.9752\n",
            "Epoch 49/100\n",
            "48000/48000 [==============================] - 5s 112us/step - loss: 0.0154 - acc: 0.9967 - val_loss: 0.1679 - val_acc: 0.9753\n",
            "Epoch 50/100\n",
            "48000/48000 [==============================] - 5s 112us/step - loss: 0.0125 - acc: 0.9974 - val_loss: 0.1435 - val_acc: 0.9772\n",
            "Epoch 51/100\n",
            "48000/48000 [==============================] - 5s 112us/step - loss: 0.0091 - acc: 0.9980 - val_loss: 0.1458 - val_acc: 0.9785\n",
            "Epoch 52/100\n",
            "48000/48000 [==============================] - 5s 113us/step - loss: 0.0081 - acc: 0.9983 - val_loss: 0.1457 - val_acc: 0.9789\n",
            "Epoch 53/100\n",
            "48000/48000 [==============================] - 5s 112us/step - loss: 0.0090 - acc: 0.9979 - val_loss: 0.1552 - val_acc: 0.9785\n",
            "Epoch 54/100\n",
            "48000/48000 [==============================] - 5s 112us/step - loss: 0.0131 - acc: 0.9976 - val_loss: 0.1591 - val_acc: 0.9779\n",
            "Epoch 55/100\n",
            "48000/48000 [==============================] - 5s 111us/step - loss: 0.0120 - acc: 0.9977 - val_loss: 0.1757 - val_acc: 0.9782\n",
            "Epoch 56/100\n",
            "48000/48000 [==============================] - 5s 113us/step - loss: 0.0185 - acc: 0.9965 - val_loss: 0.1672 - val_acc: 0.9748\n",
            "Epoch 57/100\n",
            "48000/48000 [==============================] - 5s 111us/step - loss: 0.0090 - acc: 0.9981 - val_loss: 0.1344 - val_acc: 0.9808\n",
            "Epoch 58/100\n",
            "48000/48000 [==============================] - 5s 113us/step - loss: 0.0023 - acc: 0.9994 - val_loss: 0.1534 - val_acc: 0.9812\n",
            "Epoch 59/100\n",
            "48000/48000 [==============================] - 5s 112us/step - loss: 0.0194 - acc: 0.9966 - val_loss: 0.1748 - val_acc: 0.9748\n",
            "Epoch 60/100\n",
            "48000/48000 [==============================] - 5s 112us/step - loss: 0.0140 - acc: 0.9972 - val_loss: 0.1555 - val_acc: 0.9761\n",
            "Epoch 61/100\n",
            "48000/48000 [==============================] - 5s 111us/step - loss: 0.0183 - acc: 0.9967 - val_loss: 0.1896 - val_acc: 0.9774\n",
            "Epoch 62/100\n",
            "48000/48000 [==============================] - 5s 111us/step - loss: 0.0142 - acc: 0.9972 - val_loss: 0.1835 - val_acc: 0.9765\n",
            "Epoch 63/100\n",
            "48000/48000 [==============================] - 5s 111us/step - loss: 0.0088 - acc: 0.9980 - val_loss: 0.1775 - val_acc: 0.9756\n",
            "Epoch 64/100\n",
            "48000/48000 [==============================] - 5s 113us/step - loss: 0.0042 - acc: 0.9988 - val_loss: 0.1541 - val_acc: 0.9807\n",
            "Epoch 65/100\n",
            "48000/48000 [==============================] - 5s 111us/step - loss: 0.0021 - acc: 0.9994 - val_loss: 0.1605 - val_acc: 0.9793\n",
            "Epoch 66/100\n",
            "48000/48000 [==============================] - 5s 112us/step - loss: 0.0129 - acc: 0.9973 - val_loss: 0.1656 - val_acc: 0.9778\n",
            "Epoch 67/100\n",
            "48000/48000 [==============================] - 5s 113us/step - loss: 0.0082 - acc: 0.9980 - val_loss: 0.1754 - val_acc: 0.9784\n",
            "Epoch 68/100\n",
            "48000/48000 [==============================] - 5s 112us/step - loss: 0.0180 - acc: 0.9969 - val_loss: 0.1477 - val_acc: 0.9778\n",
            "Epoch 69/100\n",
            "48000/48000 [==============================] - 5s 113us/step - loss: 0.0043 - acc: 0.9988 - val_loss: 0.1439 - val_acc: 0.9807\n",
            "Epoch 70/100\n",
            "48000/48000 [==============================] - 5s 112us/step - loss: 0.0060 - acc: 0.9986 - val_loss: 0.1614 - val_acc: 0.9780\n",
            "Epoch 71/100\n",
            "48000/48000 [==============================] - 5s 111us/step - loss: 0.0056 - acc: 0.9990 - val_loss: 0.1712 - val_acc: 0.9792\n",
            "Epoch 72/100\n",
            "48000/48000 [==============================] - 5s 111us/step - loss: 0.0080 - acc: 0.9983 - val_loss: 0.1790 - val_acc: 0.9780\n",
            "Epoch 73/100\n",
            "48000/48000 [==============================] - 5s 113us/step - loss: 0.0077 - acc: 0.9980 - val_loss: 0.1523 - val_acc: 0.9800\n",
            "Epoch 74/100\n",
            "48000/48000 [==============================] - 5s 113us/step - loss: 0.0057 - acc: 0.9990 - val_loss: 0.1517 - val_acc: 0.9806\n",
            "Epoch 75/100\n",
            "48000/48000 [==============================] - 5s 113us/step - loss: 0.0133 - acc: 0.9976 - val_loss: 0.1711 - val_acc: 0.9781\n",
            "Epoch 76/100\n",
            "48000/48000 [==============================] - 5s 112us/step - loss: 0.0053 - acc: 0.9988 - val_loss: 0.1914 - val_acc: 0.9766\n",
            "Epoch 77/100\n",
            "48000/48000 [==============================] - 5s 113us/step - loss: 0.0054 - acc: 0.9988 - val_loss: 0.1467 - val_acc: 0.9808\n",
            "Epoch 78/100\n",
            "48000/48000 [==============================] - 5s 113us/step - loss: 0.0036 - acc: 0.9994 - val_loss: 0.1745 - val_acc: 0.9798\n",
            "Epoch 79/100\n",
            "48000/48000 [==============================] - 5s 113us/step - loss: 0.0146 - acc: 0.9974 - val_loss: 0.1666 - val_acc: 0.9785\n",
            "Epoch 80/100\n",
            "48000/48000 [==============================] - 5s 112us/step - loss: 0.0081 - acc: 0.9985 - val_loss: 0.1602 - val_acc: 0.9776\n",
            "Epoch 81/100\n",
            "48000/48000 [==============================] - 5s 113us/step - loss: 0.0118 - acc: 0.9976 - val_loss: 0.1639 - val_acc: 0.9782\n",
            "Epoch 82/100\n",
            "48000/48000 [==============================] - 5s 112us/step - loss: 0.0092 - acc: 0.9983 - val_loss: 0.1575 - val_acc: 0.9782\n",
            "Epoch 83/100\n",
            "48000/48000 [==============================] - 6s 116us/step - loss: 0.0062 - acc: 0.9987 - val_loss: 0.1719 - val_acc: 0.9771\n",
            "Epoch 84/100\n",
            "48000/48000 [==============================] - 6s 115us/step - loss: 0.0051 - acc: 0.9991 - val_loss: 0.1898 - val_acc: 0.9782\n",
            "Epoch 85/100\n",
            "48000/48000 [==============================] - 5s 113us/step - loss: 0.0106 - acc: 0.9984 - val_loss: 0.1825 - val_acc: 0.9754\n",
            "Epoch 86/100\n",
            "48000/48000 [==============================] - 5s 112us/step - loss: 0.0072 - acc: 0.9983 - val_loss: 0.1907 - val_acc: 0.9772\n",
            "Epoch 87/100\n",
            "48000/48000 [==============================] - 5s 111us/step - loss: 0.0028 - acc: 0.9994 - val_loss: 0.1577 - val_acc: 0.9812\n",
            "Epoch 88/100\n",
            "48000/48000 [==============================] - 5s 112us/step - loss: 6.3342e-04 - acc: 0.9999 - val_loss: 0.1827 - val_acc: 0.9788\n",
            "Epoch 89/100\n",
            "48000/48000 [==============================] - 5s 112us/step - loss: 0.0190 - acc: 0.9967 - val_loss: 0.1696 - val_acc: 0.9786\n",
            "Epoch 90/100\n",
            "48000/48000 [==============================] - 5s 112us/step - loss: 0.0056 - acc: 0.9986 - val_loss: 0.1630 - val_acc: 0.9812\n",
            "Epoch 91/100\n",
            "48000/48000 [==============================] - 5s 113us/step - loss: 0.0085 - acc: 0.9985 - val_loss: 0.1806 - val_acc: 0.9769\n",
            "Epoch 92/100\n",
            "48000/48000 [==============================] - 5s 113us/step - loss: 0.0049 - acc: 0.9991 - val_loss: 0.1884 - val_acc: 0.9798\n",
            "Epoch 93/100\n",
            "48000/48000 [==============================] - 5s 111us/step - loss: 0.0100 - acc: 0.9985 - val_loss: 0.2043 - val_acc: 0.9768\n",
            "Epoch 94/100\n",
            "48000/48000 [==============================] - 5s 112us/step - loss: 0.0119 - acc: 0.9979 - val_loss: 0.2199 - val_acc: 0.9761\n",
            "Epoch 95/100\n",
            "48000/48000 [==============================] - 5s 112us/step - loss: 0.0123 - acc: 0.9977 - val_loss: 0.1372 - val_acc: 0.9812\n",
            "Epoch 96/100\n",
            "48000/48000 [==============================] - 5s 112us/step - loss: 0.0042 - acc: 0.9993 - val_loss: 0.1551 - val_acc: 0.9814\n",
            "Epoch 97/100\n",
            "48000/48000 [==============================] - 5s 112us/step - loss: 0.0031 - acc: 0.9996 - val_loss: 0.1917 - val_acc: 0.9801\n",
            "Epoch 98/100\n",
            "48000/48000 [==============================] - 5s 113us/step - loss: 0.0228 - acc: 0.9966 - val_loss: 0.1647 - val_acc: 0.9793\n",
            "Epoch 99/100\n",
            "48000/48000 [==============================] - 5s 112us/step - loss: 0.0082 - acc: 0.9984 - val_loss: 0.1752 - val_acc: 0.9807\n",
            "Epoch 100/100\n",
            "48000/48000 [==============================] - 5s 112us/step - loss: 0.0069 - acc: 0.9989 - val_loss: 0.1839 - val_acc: 0.9791\n"
          ],
          "name": "stdout"
        }
      ]
    },
    {
      "cell_type": "code",
      "metadata": {
        "id": "3Ovj_adgzeyL",
        "colab_type": "code",
        "colab": {
          "base_uri": "https://localhost:8080/",
          "height": 545
        },
        "outputId": "8eda1adc-8c0b-49d8-9029-bb1ea89fcfd1"
      },
      "source": [
        "full_model.save_weights('classification_complete.h5')\n",
        "accuracy = classify_train.history['acc']\n",
        "val_accuracy = classify_train.history['val_acc']\n",
        "loss = classify_train.history['loss']\n",
        "val_loss = classify_train.history['val_loss']\n",
        "epochs = range(len(accuracy))\n",
        "plt.plot(epochs, accuracy, 'bo', label='Training accuracy')\n",
        "plt.plot(epochs, val_accuracy, 'b', label='Validation accuracy')\n",
        "plt.title('Training and validation accuracy')\n",
        "plt.legend()\n",
        "plt.figure()\n",
        "plt.plot(epochs, loss, 'bo', label='Training loss')\n",
        "plt.plot(epochs, val_loss, 'b', label='Validation loss')\n",
        "plt.title('Training and validation loss')\n",
        "plt.legend()\n",
        "plt.show()"
      ],
      "execution_count": 49,
      "outputs": [
        {
          "output_type": "display_data",
          "data": {
            "image/png": "[encoded data removed]",
            "text/plain": [
              "<Figure size 432x288 with 1 Axes>"
            ]
          },
          "metadata": {
            "tags": []
          }
        },
        {
          "output_type": "display_data",
          "data": {
            "image/png": "[encoded data removed]",
            "text/plain": [
              "<Figure size 432x288 with 1 Axes>"
            ]
          },
          "metadata": {
            "tags": []
          }
        }
      ]
    },
    {
      "cell_type": "code",
      "metadata": {
        "id": "tNdRPDy2zjxv",
        "colab_type": "code",
        "colab": {
          "base_uri": "https://localhost:8080/",
          "height": 51
        },
        "outputId": "064a1670-f98e-4d6c-b1cf-4838b41f3216"
      },
      "source": [
        "test_eval = full_model.evaluate(X_test, test_Y_one_hot, verbose=0)\n",
        "print('Test loss:', test_eval[0])\n",
        "print('Test accuracy:', test_eval[1])"
      ],
      "execution_count": 50,
      "outputs": [
        {
          "output_type": "stream",
          "text": [
            "Test loss: 0.17859678938569792\n",
            "Test accuracy: 0.9791\n"
          ],
          "name": "stdout"
        }
      ]
    }
  ]
}